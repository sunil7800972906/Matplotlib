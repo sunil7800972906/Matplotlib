{
 "cells": [
  {
   "cell_type": "markdown",
   "metadata": {},
   "source": [
    "# how to show image using matplotlib imshow function"
   ]
  },
  {
   "cell_type": "code",
   "execution_count": 13,
   "metadata": {},
   "outputs": [],
   "source": [
    "import matplotlib.pyplot as plt\n",
    "import matplotlib.image as mpimg\n",
    "from matplotlib import style\n",
    "import random"
   ]
  },
  {
   "cell_type": "code",
   "execution_count": 14,
   "metadata": {},
   "outputs": [],
   "source": [
    "img = mpimg.imread(\"pie_char.png\")"
   ]
  },
  {
   "cell_type": "code",
   "execution_count": 15,
   "metadata": {},
   "outputs": [
    {
     "data": {
      "text/plain": [
       "array([[[0.7490196, 0.7490196, 0.       , 1.       ],\n",
       "        [0.7490196, 0.7490196, 0.       , 1.       ],\n",
       "        [0.7490196, 0.7490196, 0.       , 1.       ],\n",
       "        ...,\n",
       "        [0.7490196, 0.7490196, 0.       , 1.       ],\n",
       "        [0.7490196, 0.7490196, 0.       , 1.       ],\n",
       "        [0.7490196, 0.7490196, 0.       , 1.       ]],\n",
       "\n",
       "       [[0.7490196, 0.7490196, 0.       , 1.       ],\n",
       "        [0.7490196, 0.7490196, 0.       , 1.       ],\n",
       "        [0.7490196, 0.7490196, 0.       , 1.       ],\n",
       "        ...,\n",
       "        [0.7490196, 0.7490196, 0.       , 1.       ],\n",
       "        [0.7490196, 0.7490196, 0.       , 1.       ],\n",
       "        [0.7490196, 0.7490196, 0.       , 1.       ]],\n",
       "\n",
       "       [[0.7490196, 0.7490196, 0.       , 1.       ],\n",
       "        [0.7490196, 0.7490196, 0.       , 1.       ],\n",
       "        [0.7490196, 0.7490196, 0.       , 1.       ],\n",
       "        ...,\n",
       "        [0.7490196, 0.7490196, 0.       , 1.       ],\n",
       "        [0.7490196, 0.7490196, 0.       , 1.       ],\n",
       "        [0.7490196, 0.7490196, 0.       , 1.       ]],\n",
       "\n",
       "       ...,\n",
       "\n",
       "       [[0.7490196, 0.7490196, 0.       , 1.       ],\n",
       "        [0.7490196, 0.7490196, 0.       , 1.       ],\n",
       "        [0.7490196, 0.7490196, 0.       , 1.       ],\n",
       "        ...,\n",
       "        [0.7490196, 0.7490196, 0.       , 1.       ],\n",
       "        [0.7490196, 0.7490196, 0.       , 1.       ],\n",
       "        [0.7490196, 0.7490196, 0.       , 1.       ]],\n",
       "\n",
       "       [[0.7490196, 0.7490196, 0.       , 1.       ],\n",
       "        [0.7490196, 0.7490196, 0.       , 1.       ],\n",
       "        [0.7490196, 0.7490196, 0.       , 1.       ],\n",
       "        ...,\n",
       "        [0.7490196, 0.7490196, 0.       , 1.       ],\n",
       "        [0.7490196, 0.7490196, 0.       , 1.       ],\n",
       "        [0.7490196, 0.7490196, 0.       , 1.       ]],\n",
       "\n",
       "       [[0.7490196, 0.7490196, 0.       , 1.       ],\n",
       "        [0.7490196, 0.7490196, 0.       , 1.       ],\n",
       "        [0.7490196, 0.7490196, 0.       , 1.       ],\n",
       "        ...,\n",
       "        [0.7490196, 0.7490196, 0.       , 1.       ],\n",
       "        [0.7490196, 0.7490196, 0.       , 1.       ],\n",
       "        [0.7490196, 0.7490196, 0.       , 1.       ]]], dtype=float32)"
      ]
     },
     "execution_count": 15,
     "metadata": {},
     "output_type": "execute_result"
    }
   ],
   "source": [
    "img"
   ]
  },
  {
   "cell_type": "code",
   "execution_count": 16,
   "metadata": {},
   "outputs": [
    {
     "data": {
      "text/plain": [
       "numpy.ndarray"
      ]
     },
     "execution_count": 16,
     "metadata": {},
     "output_type": "execute_result"
    }
   ],
   "source": [
    "type(img)"
   ]
  },
  {
   "cell_type": "code",
   "execution_count": 17,
   "metadata": {},
   "outputs": [
    {
     "data": {
      "text/plain": [
       "(400, 600, 4)"
      ]
     },
     "execution_count": 17,
     "metadata": {},
     "output_type": "execute_result"
    }
   ],
   "source": [
    "img.shape"
   ]
  },
  {
   "cell_type": "code",
   "execution_count": 18,
   "metadata": {},
   "outputs": [
    {
     "data": {
      "text/plain": [
       "3"
      ]
     },
     "execution_count": 18,
     "metadata": {},
     "output_type": "execute_result"
    }
   ],
   "source": [
    "img.ndim"
   ]
  },
  {
   "cell_type": "code",
   "execution_count": 19,
   "metadata": {},
   "outputs": [
    {
     "data": {
      "image/png": "[encoded data removed]",
      "text/plain": [
       "<Figure size 432x288 with 1 Axes>"
      ]
     },
     "metadata": {
      "needs_background": "light"
     },
     "output_type": "display_data"
    }
   ],
   "source": [
    "plt.imshow(img)\n",
    "plt.show()"
   ]
  },
  {
   "cell_type": "code",
   "execution_count": 23,
   "metadata": {},
   "outputs": [
    {
     "data": {
      "image/png": "[encoded data removed]",
      "text/plain": [
       "<Figure size 432x288 with 2 Axes>"
      ]
     },
     "metadata": {
      "needs_background": "light"
     },
     "output_type": "display_data"
    }
   ],
   "source": [
    "plt.axis(\"off\")\n",
    "plt.imshow(img,cmap = \"Blues\")\n",
    "plt.colorbar()\n",
    "plt.show()"
   ]
  },
  {
   "cell_type": "code",
   "execution_count": null,
   "metadata": {},
   "outputs": [],
   "source": []
  }
 ],
 "metadata": {
  "kernelspec": {
   "display_name": "Python 3",
   "language": "python",
   "name": "python3"
  },
  "language_info": {
   "codemirror_mode": {
    "name": "ipython",
    "version": 3
   },
   "file_extension": ".py",
   "mimetype": "text/x-python",
   "name": "python",
   "nbconvert_exporter": "python",
   "pygments_lexer": "ipython3",
   "version": "3.7.7"
  }
 },
 "nbformat": 4,
 "nbformat_minor": 4
}
